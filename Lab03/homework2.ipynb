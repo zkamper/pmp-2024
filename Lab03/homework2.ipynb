{
 "cells": [
  {
   "metadata": {},
   "cell_type": "markdown",
   "source": [
    "# Ex 1.\n",
    "To-Do"
   ],
   "id": "ff38eefa7286978d"
  },
  {
   "metadata": {},
   "cell_type": "markdown",
   "source": "# Ex 2\n",
   "id": "63372ac5f412e125"
  },
  {
   "metadata": {
    "ExecuteTime": {
     "end_time": "2024-10-15T09:40:21.991070Z",
     "start_time": "2024-10-15T09:40:18.290512Z"
    }
   },
   "cell_type": "code",
   "source": [
    "from tkinter import Variable\n",
    "\n",
    "from pgmpy.models import BayesianNetwork\n",
    "from pgmpy.factors.discrete import TabularCPD\n",
    "import networkx as nx"
   ],
   "id": "1c911ffcf3224618",
   "outputs": [],
   "execution_count": 1
  },
  {
   "metadata": {
    "ExecuteTime": {
     "end_time": "2024-10-15T10:04:00.685377Z",
     "start_time": "2024-10-15T10:04:00.605844Z"
    }
   },
   "cell_type": "code",
   "source": [
    "ebola_model = BayesianNetwork([\n",
    "    ('B','T'),\n",
    "    ('B','X'),\n",
    "    ('B','D'),\n",
    "    ('T','D')\n",
    "])\n",
    "\n",
    "coords = nx.circular_layout(ebola_model)\n",
    "nx.draw(ebola_model, with_labels=True, pos=coords, alpha=0.5, node_size=2000)"
   ],
   "id": "136249cf6b1b6464",
   "outputs": [
    {
     "data": {
      "text/plain": [
       "<Figure size 640x480 with 1 Axes>"
      ],
      "image/png": "[encoded data removed]"
     },
     "metadata": {},
     "output_type": "display_data"
    }
   ],
   "execution_count": 10
  },
  {
   "metadata": {
    "ExecuteTime": {
     "end_time": "2024-10-15T09:54:28.893663Z",
     "start_time": "2024-10-15T09:54:28.888436Z"
    }
   },
   "cell_type": "code",
   "source": [
    "CPD_B = TabularCPD(variable='B', \n",
    "                   variable_card=2,\n",
    "                   values=[[0.9],[0.1]])\n",
    "print(CPD_B)"
   ],
   "id": "25b729ee42a2ba47",
   "outputs": [
    {
     "name": "stdout",
     "output_type": "stream",
     "text": [
      "+------+-----+\n",
      "| B(0) | 0.9 |\n",
      "+------+-----+\n",
      "| B(1) | 0.1 |\n",
      "+------+-----+\n"
     ]
    }
   ],
   "execution_count": 4
  },
  {
   "metadata": {
    "ExecuteTime": {
     "end_time": "2024-10-15T09:58:00.642511Z",
     "start_time": "2024-10-15T09:58:00.639088Z"
    }
   },
   "cell_type": "code",
   "source": [
    "CPD_T = TabularCPD(variable='T',\n",
    "                   variable_card=2,\n",
    "                   evidence=['B'],\n",
    "                   evidence_card=[2],\n",
    "                   values=[[0.7, 0.2],\n",
    "                           [0.3, 0.8]])\n",
    "print(CPD_T)"
   ],
   "id": "552a7dc9acd3943",
   "outputs": [
    {
     "name": "stdout",
     "output_type": "stream",
     "text": [
      "+------+------+------+\n",
      "| B    | B(0) | B(1) |\n",
      "+------+------+------+\n",
      "| T(0) | 0.7  | 0.2  |\n",
      "+------+------+------+\n",
      "| T(1) | 0.3  | 0.8  |\n",
      "+------+------+------+\n"
     ]
    }
   ],
   "execution_count": 6
  },
  {
   "metadata": {
    "ExecuteTime": {
     "end_time": "2024-10-15T10:01:13.248789Z",
     "start_time": "2024-10-15T10:01:13.244481Z"
    }
   },
   "cell_type": "code",
   "source": [
    "CPD_X = TabularCPD(variable='X',\n",
    "                   variable_card=2,\n",
    "                   evidence=['B'],\n",
    "                   evidence_card=[2],\n",
    "                   values=[[0.9, 0.1],\n",
    "                           [0.1, 0.9]])\n",
    "print(CPD_X)"
   ],
   "id": "eda1211cb382ab91",
   "outputs": [
    {
     "name": "stdout",
     "output_type": "stream",
     "text": [
      "+------+------+------+\n",
      "| B    | B(0) | B(1) |\n",
      "+------+------+------+\n",
      "| X(0) | 0.9  | 0.1  |\n",
      "+------+------+------+\n",
      "| X(1) | 0.1  | 0.9  |\n",
      "+------+------+------+\n"
     ]
    }
   ],
   "execution_count": 8
  },
  {
   "metadata": {
    "ExecuteTime": {
     "end_time": "2024-10-15T10:03:27.695750Z",
     "start_time": "2024-10-15T10:03:27.691178Z"
    }
   },
   "cell_type": "code",
   "source": [
    "CPD_D = TabularCPD(variable='D',\n",
    "                   variable_card=2,\n",
    "                   evidence=['B','T'],\n",
    "                   evidence_card=[2,2],\n",
    "                   values=[[0.9, 0.5, 0.6, 0.1],\n",
    "                           [0.1, 0.5, 0.4, 0.9]])\n",
    "print(CPD_D)"
   ],
   "id": "c1ed8fbab4603030",
   "outputs": [
    {
     "name": "stdout",
     "output_type": "stream",
     "text": [
      "+------+------+------+------+------+\n",
      "| B    | B(0) | B(0) | B(1) | B(1) |\n",
      "+------+------+------+------+------+\n",
      "| T    | T(0) | T(1) | T(0) | T(1) |\n",
      "+------+------+------+------+------+\n",
      "| D(0) | 0.9  | 0.5  | 0.6  | 0.1  |\n",
      "+------+------+------+------+------+\n",
      "| D(1) | 0.1  | 0.5  | 0.4  | 0.9  |\n",
      "+------+------+------+------+------+\n"
     ]
    }
   ],
   "execution_count": 9
  },
  {
   "metadata": {
    "ExecuteTime": {
     "end_time": "2024-10-15T10:04:59.964341Z",
     "start_time": "2024-10-15T10:04:59.957584Z"
    }
   },
   "cell_type": "code",
   "source": "ebola_model.add_cpds(CPD_B,CPD_T,CPD_X,CPD_D)",
   "id": "23eb6eea30a07114",
   "outputs": [
    {
     "name": "stderr",
     "output_type": "stream",
     "text": [
      "WARNING:pgmpy:Replacing existing CPD for B\n",
      "WARNING:pgmpy:Replacing existing CPD for T\n",
      "WARNING:pgmpy:Replacing existing CPD for X\n",
      "WARNING:pgmpy:Replacing existing CPD for D\n"
     ]
    }
   ],
   "execution_count": 13
  },
  {
   "metadata": {},
   "cell_type": "code",
   "outputs": [],
   "execution_count": null,
   "source": "ebola_model.get_cpds()",
   "id": "33568faee2d67b3b"
  },
  {
   "metadata": {},
   "cell_type": "markdown",
   "source": "Calculăm acum șansa de a avea boala pulmonară considerând că am observat tuse și dificultăți de respirație",
   "id": "e82b395d89dee42"
  },
  {
   "metadata": {
    "ExecuteTime": {
     "end_time": "2024-10-15T10:10:49.401083Z",
     "start_time": "2024-10-15T10:10:49.394852Z"
    }
   },
   "cell_type": "code",
   "source": [
    "from pgmpy.inference import VariableElimination\n",
    "\n",
    "infer = VariableElimination(ebola_model)\n",
    "post_p = infer.query(['B'], evidence = {'T':1,'D':1})\n",
    "print(post_p)"
   ],
   "id": "714914d05435d975",
   "outputs": [
    {
     "name": "stdout",
     "output_type": "stream",
     "text": [
      "+------+----------+\n",
      "| B    |   phi(B) |\n",
      "+======+==========+\n",
      "| B(0) |   0.6522 |\n",
      "+------+----------+\n",
      "| B(1) |   0.3478 |\n",
      "+------+----------+\n"
     ]
    }
   ],
   "execution_count": 17
  },
  {
   "metadata": {},
   "cell_type": "markdown",
   "source": "Observăm după ca pacientul nu avea ebola. Facem o nouă inferență pentru a afla dacă radiografia a fost sau nu abnormala",
   "id": "c61c283477d3810c"
  },
  {
   "metadata": {
    "ExecuteTime": {
     "end_time": "2024-10-15T10:20:16.317652Z",
     "start_time": "2024-10-15T10:20:16.313566Z"
    }
   },
   "cell_type": "code",
   "source": [
    "post_p_2 = infer.query(['X'], evidence = {'B':0})\n",
    "print(post_p_2)"
   ],
   "id": "f9b74cec77274e3e",
   "outputs": [
    {
     "name": "stdout",
     "output_type": "stream",
     "text": [
      "+------+----------+\n",
      "| X    |   phi(X) |\n",
      "+======+==========+\n",
      "| X(0) |   0.9000 |\n",
      "+------+----------+\n",
      "| X(1) |   0.1000 |\n",
      "+------+----------+\n"
     ]
    }
   ],
   "execution_count": 39
  }
 ],
 "metadata": {
  "kernelspec": {
   "display_name": "Python 3",
   "language": "python",
   "name": "python3"
  },
  "language_info": {
   "codemirror_mode": {
    "name": "ipython",
    "version": 2
   },
   "file_extension": ".py",
   "mimetype": "text/x-python",
   "name": "python",
   "nbconvert_exporter": "python",
   "pygments_lexer": "ipython2",
   "version": "2.7.6"
  }
 },
 "nbformat": 4,
 "nbformat_minor": 5
}
