{
 "cells": [
  {
   "metadata": {},
   "cell_type": "markdown",
   "source": [
    "# Ex 1.\n",
    "To-Do"
   ],
   "id": "ff38eefa7286978d"
  },
  {
   "metadata": {},
   "cell_type": "markdown",
   "source": "# Ex 2\n",
   "id": "63372ac5f412e125"
  },
  {
   "metadata": {
    "ExecuteTime": {
     "end_time": "2024-10-15T09:40:21.991070Z",
     "start_time": "2024-10-15T09:40:18.290512Z"
    }
   },
   "cell_type": "code",
   "source": [
    "from tkinter import Variable\n",
    "\n",
    "from pgmpy.models import BayesianNetwork\n",
    "from pgmpy.factors.discrete import TabularCPD\n",
    "import networkx as nx"
   ],
   "id": "1c911ffcf3224618",
   "outputs": [],
   "execution_count": 1
  },
  {
   "metadata": {
    "ExecuteTime": {
     "end_time": "2024-10-15T10:21:37.789121Z",
     "start_time": "2024-10-15T10:21:37.707484Z"
    }
   },
   "cell_type": "code",
   "source": [
    "ebola_model = BayesianNetwork([\n",
    "    ('B','T'),\n",
    "    ('B','X'),\n",
    "    ('B','D'),\n",
    "    ('T','D')\n",
    "])\n",
    "\n",
    "coords = nx.circular_layout(ebola_model)\n",
    "nx.draw(ebola_model, with_labels=True, pos=coords, alpha=0.5, node_size=1500)"
   ],
   "id": "136249cf6b1b6464",
   "outputs": [
    {
     "data": {
      "text/plain": [
       "<Figure size 640x480 with 1 Axes>"
      ],
      "image/png": "[encoded data removed]"
     },
     "metadata": {},
     "output_type": "display_data"
    }
   ],
   "execution_count": 42
  },
  {
   "metadata": {
    "ExecuteTime": {
     "end_time": "2024-10-15T09:54:28.893663Z",
     "start_time": "2024-10-15T09:54:28.888436Z"
    }
   },
   "cell_type": "code",
   "source": [
    "CPD_B = TabularCPD(variable='B', \n",
    "                   variable_card=2,\n",
    "                   values=[[0.9],[0.1]])\n",
    "print(CPD_B)"
   ],
   "id": "25b729ee42a2ba47",
   "outputs": [
    {
     "name": "stdout",
     "output_type": "stream",
     "text": [
      "+------+-----+\n",
      "| B(0) | 0.9 |\n",
      "+------+-----+\n",
      "| B(1) | 0.1 |\n",
      "+------+-----+\n"
     ]
    }
   ],
   "execution_count": 4
  },
  {
   "metadata": {
    "ExecuteTime": {
     "end_time": "2024-10-15T09:58:00.642511Z",
     "start_time": "2024-10-15T09:58:00.639088Z"
    }
   },
   "cell_type": "code",
   "source": [
    "CPD_T = TabularCPD(variable='T',\n",
    "                   variable_card=2,\n",
    "                   evidence=['B'],\n",
    "                   evidence_card=[2],\n",
    "                   values=[[0.7, 0.2],\n",
    "                           [0.3, 0.8]])\n",
    "print(CPD_T)"
   ],
   "id": "552a7dc9acd3943",
   "outputs": [
    {
     "name": "stdout",
     "output_type": "stream",
     "text": [
      "+------+------+------+\n",
      "| B    | B(0) | B(1) |\n",
      "+------+------+------+\n",
      "| T(0) | 0.7  | 0.2  |\n",
      "+------+------+------+\n",
      "| T(1) | 0.3  | 0.8  |\n",
      "+------+------+------+\n"
     ]
    }
   ],
   "execution_count": 6
  },
  {
   "metadata": {
    "ExecuteTime": {
     "end_time": "2024-10-15T10:01:13.248789Z",
     "start_time": "2024-10-15T10:01:13.244481Z"
    }
   },
   "cell_type": "code",
   "source": [
    "CPD_X = TabularCPD(variable='X',\n",
    "                   variable_card=2,\n",
    "                   evidence=['B'],\n",
    "                   evidence_card=[2],\n",
    "                   values=[[0.9, 0.1],\n",
    "                           [0.1, 0.9]])\n",
    "print(CPD_X)"
   ],
   "id": "eda1211cb382ab91",
   "outputs": [
    {
     "name": "stdout",
     "output_type": "stream",
     "text": [
      "+------+------+------+\n",
      "| B    | B(0) | B(1) |\n",
      "+------+------+------+\n",
      "| X(0) | 0.9  | 0.1  |\n",
      "+------+------+------+\n",
      "| X(1) | 0.1  | 0.9  |\n",
      "+------+------+------+\n"
     ]
    }
   ],
   "execution_count": 8
  },
  {
   "metadata": {
    "ExecuteTime": {
     "end_time": "2024-10-15T13:03:48.544190Z",
     "start_time": "2024-10-15T13:03:48.338495Z"
    }
   },
   "cell_type": "code",
   "source": [
    "CPD_D = TabularCPD(variable='D',\n",
    "                   variable_card=2,\n",
    "                   evidence=['B','T'],\n",
    "                   evidence_card=[2,2],\n",
    "                   values=[[0.9, 0.5, 0.6, 0.1],\n",
    "                           [0.1, 0.5, 0.4, 0.9]])\n",
    "print(CPD_D)"
   ],
   "id": "c1ed8fbab4603030",
   "outputs": [
    {
     "ename": "NameError",
     "evalue": "name 'TabularCPD' is not defined",
     "output_type": "error",
     "traceback": [
      "\u001B[1;31m---------------------------------------------------------------------------\u001B[0m",
      "\u001B[1;31mNameError\u001B[0m                                 Traceback (most recent call last)",
      "Cell \u001B[1;32mIn[1], line 1\u001B[0m\n\u001B[1;32m----> 1\u001B[0m CPD_D \u001B[38;5;241m=\u001B[39m \u001B[43mTabularCPD\u001B[49m(variable\u001B[38;5;241m=\u001B[39m\u001B[38;5;124m'\u001B[39m\u001B[38;5;124mD\u001B[39m\u001B[38;5;124m'\u001B[39m,\n\u001B[0;32m      2\u001B[0m                    variable_card\u001B[38;5;241m=\u001B[39m\u001B[38;5;241m2\u001B[39m,\n\u001B[0;32m      3\u001B[0m                    evidence\u001B[38;5;241m=\u001B[39m[\u001B[38;5;124m'\u001B[39m\u001B[38;5;124mB\u001B[39m\u001B[38;5;124m'\u001B[39m,\u001B[38;5;124m'\u001B[39m\u001B[38;5;124mT\u001B[39m\u001B[38;5;124m'\u001B[39m],\n\u001B[0;32m      4\u001B[0m                    evidence_card\u001B[38;5;241m=\u001B[39m[\u001B[38;5;241m2\u001B[39m,\u001B[38;5;241m2\u001B[39m],\n\u001B[0;32m      5\u001B[0m                    values\u001B[38;5;241m=\u001B[39m[[\u001B[38;5;241m0.9\u001B[39m, \u001B[38;5;241m0.5\u001B[39m, \u001B[38;5;241m0.6\u001B[39m, \u001B[38;5;241m0.1\u001B[39m],\n\u001B[0;32m      6\u001B[0m                            [\u001B[38;5;241m0.1\u001B[39m, \u001B[38;5;241m0.5\u001B[39m, \u001B[38;5;241m0.4\u001B[39m, \u001B[38;5;241m0.9\u001B[39m]])\n\u001B[0;32m      7\u001B[0m \u001B[38;5;28mprint\u001B[39m(CPD_D)\n",
      "\u001B[1;31mNameError\u001B[0m: name 'TabularCPD' is not defined"
     ]
    }
   ],
   "execution_count": 1
  },
  {
   "metadata": {
    "ExecuteTime": {
     "end_time": "2024-10-15T10:04:59.964341Z",
     "start_time": "2024-10-15T10:04:59.957584Z"
    }
   },
   "cell_type": "code",
   "source": "ebola_model.add_cpds(CPD_B,CPD_T,CPD_X,CPD_D)",
   "id": "23eb6eea30a07114",
   "outputs": [
    {
     "name": "stderr",
     "output_type": "stream",
     "text": [
      "WARNING:pgmpy:Replacing existing CPD for B\n",
      "WARNING:pgmpy:Replacing existing CPD for T\n",
      "WARNING:pgmpy:Replacing existing CPD for X\n",
      "WARNING:pgmpy:Replacing existing CPD for D\n"
     ]
    }
   ],
   "execution_count": 13
  },
  {
   "metadata": {},
   "cell_type": "code",
   "outputs": [],
   "execution_count": null,
   "source": "ebola_model.get_cpds()",
   "id": "33568faee2d67b3b"
  },
  {
   "metadata": {},
   "cell_type": "markdown",
   "source": "Calculăm acum șansa de a avea boala pulmonară considerând că am observat tuse și dificultăți de respirație",
   "id": "e82b395d89dee42"
  },
  {
   "metadata": {
    "ExecuteTime": {
     "end_time": "2024-10-15T13:05:56.794754Z",
     "start_time": "2024-10-15T13:05:52.007249Z"
    }
   },
   "cell_type": "code",
   "source": [
    "from pgmpy.inference import VariableElimination\n",
    "\n",
    "infer = VariableElimination(ebola_model)\n",
    "post_p = infer.query(['B'], evidence = {'T':1,'D':1})\n",
    "print(post_p)"
   ],
   "id": "714914d05435d975",
   "outputs": [
    {
     "ename": "NameError",
     "evalue": "name 'ebola_model' is not defined",
     "output_type": "error",
     "traceback": [
      "\u001B[1;31m---------------------------------------------------------------------------\u001B[0m",
      "\u001B[1;31mNameError\u001B[0m                                 Traceback (most recent call last)",
      "Cell \u001B[1;32mIn[2], line 3\u001B[0m\n\u001B[0;32m      1\u001B[0m \u001B[38;5;28;01mfrom\u001B[39;00m \u001B[38;5;21;01mpgmpy\u001B[39;00m\u001B[38;5;21;01m.\u001B[39;00m\u001B[38;5;21;01minference\u001B[39;00m \u001B[38;5;28;01mimport\u001B[39;00m VariableElimination\n\u001B[1;32m----> 3\u001B[0m infer \u001B[38;5;241m=\u001B[39m VariableElimination(\u001B[43mebola_model\u001B[49m)\n\u001B[0;32m      4\u001B[0m post_p \u001B[38;5;241m=\u001B[39m infer\u001B[38;5;241m.\u001B[39mquery([\u001B[38;5;124m'\u001B[39m\u001B[38;5;124mB\u001B[39m\u001B[38;5;124m'\u001B[39m], evidence \u001B[38;5;241m=\u001B[39m {\u001B[38;5;124m'\u001B[39m\u001B[38;5;124mT\u001B[39m\u001B[38;5;124m'\u001B[39m:\u001B[38;5;241m1\u001B[39m,\u001B[38;5;124m'\u001B[39m\u001B[38;5;124mD\u001B[39m\u001B[38;5;124m'\u001B[39m:\u001B[38;5;241m1\u001B[39m})\n\u001B[0;32m      5\u001B[0m \u001B[38;5;28mprint\u001B[39m(post_p)\n",
      "\u001B[1;31mNameError\u001B[0m: name 'ebola_model' is not defined"
     ]
    }
   ],
   "execution_count": 2
  },
  {
   "metadata": {},
   "cell_type": "markdown",
   "source": "Observăm după ca pacientul nu avea ebola. Facem o nouă inferență pentru a afla dacă radiografia a fost sau nu abnormala",
   "id": "c61c283477d3810c"
  },
  {
   "metadata": {
    "ExecuteTime": {
     "end_time": "2024-10-15T10:20:16.317652Z",
     "start_time": "2024-10-15T10:20:16.313566Z"
    }
   },
   "cell_type": "code",
   "source": [
    "post_p_2 = infer.query(['X'], evidence = {'B':0})\n",
    "print(post_p_2)"
   ],
   "id": "f9b74cec77274e3e",
   "outputs": [
    {
     "name": "stdout",
     "output_type": "stream",
     "text": [
      "+------+----------+\n",
      "| X    |   phi(X) |\n",
      "+======+==========+\n",
      "| X(0) |   0.9000 |\n",
      "+------+----------+\n",
      "| X(1) |   0.1000 |\n",
      "+------+----------+\n"
     ]
    }
   ],
   "execution_count": 39
  }
 ],
 "metadata": {
  "kernelspec": {
   "display_name": "Python 3",
   "language": "python",
   "name": "python3"
  },
  "language_info": {
   "codemirror_mode": {
    "name": "ipython",
    "version": 2
   },
   "file_extension": ".py",
   "mimetype": "text/x-python",
   "name": "python",
   "nbconvert_exporter": "python",
   "pygments_lexer": "ipython2",
   "version": "2.7.6"
  }
 },
 "nbformat": 4,
 "nbformat_minor": 5
}
