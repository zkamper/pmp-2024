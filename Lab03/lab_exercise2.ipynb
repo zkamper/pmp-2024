{
 "cells": [
  {
   "cell_type": "code",
   "execution_count": 25,
   "id": "initial_id",
   "metadata": {
    "ExecuteTime": {
     "end_time": "2024-10-15T13:50:26.880943Z",
     "start_time": "2024-10-15T13:50:26.877107Z"
    },
    "collapsed": true,
    "jupyter": {
     "outputs_hidden": true
    }
   },
   "outputs": [],
   "source": [
    "# Exercițiu laborator 3"
   ]
  },
  {
   "cell_type": "code",
   "execution_count": 26,
   "id": "a33e8978a9f59800",
   "metadata": {
    "ExecuteTime": {
     "end_time": "2024-10-15T13:50:26.921332Z",
     "start_time": "2024-10-15T13:50:26.918510Z"
    }
   },
   "outputs": [],
   "source": [
    "from pgmpy.models import BayesianNetwork\n",
    "from pgmpy.factors.discrete import TabularCPD\n",
    "import networkx as nx"
   ]
  },
  {
   "cell_type": "code",
   "execution_count": 27,
   "id": "a0e9f4b9b7d20a9f",
   "metadata": {
    "ExecuteTime": {
     "end_time": "2024-10-15T13:50:27.021476Z",
     "start_time": "2024-10-15T13:50:26.934311Z"
    }
   },
   "outputs": [
    {
     "data": {
      "image/png": "[encoded data removed]",
      "text/plain": [
       "<Figure size 640x480 with 1 Axes>"
      ]
     },
     "metadata": {},
     "output_type": "display_data"
    }
   ],
   "source": [
    "model = BayesianNetwork([('S', 'O'), ('S', 'L'), ('S', 'M'),('L', 'M')])\n",
    "\n",
    "coords = {'S': (0, 0), 'O': (1, 0), 'L': (0, 1), 'M': (1, 1)}\n",
    "nx.draw(model, pos=coords, with_labels=True, node_size=3000)"
   ]
  },
  {
   "cell_type": "markdown",
   "id": "230679255f967fa5",
   "metadata": {},
   "source": [
    "Se observa ca S este independent, caci nu are nici un nod parinte de care sa depinda"
   ]
  },
  {
   "cell_type": "code",
   "execution_count": 28,
   "id": "5a10897ba2bfa5c1",
   "metadata": {
    "ExecuteTime": {
     "end_time": "2024-10-15T13:50:27.035173Z",
     "start_time": "2024-10-15T13:50:27.031327Z"
    }
   },
   "outputs": [
    {
     "name": "stdout",
     "output_type": "stream",
     "text": [
      "+------+-----+\n",
      "| S(0) | 0.6 |\n",
      "+------+-----+\n",
      "| S(1) | 0.4 |\n",
      "+------+-----+\n"
     ]
    }
   ],
   "source": [
    "CPD_S = TabularCPD(variable='S',\n",
    "                   variable_card=2,\n",
    "                   values=[[0.6], [0.4]])\n",
    "print(CPD_S)"
   ]
  },
  {
   "cell_type": "code",
   "execution_count": 29,
   "id": "6704dbb531c926dc",
   "metadata": {
    "ExecuteTime": {
     "end_time": "2024-10-15T13:50:27.059479Z",
     "start_time": "2024-10-15T13:50:27.055495Z"
    }
   },
   "outputs": [
    {
     "name": "stdout",
     "output_type": "stream",
     "text": [
      "+------+------+------+\n",
      "| S    | S(0) | S(1) |\n",
      "+------+------+------+\n",
      "| O(0) | 0.9  | 0.3  |\n",
      "+------+------+------+\n",
      "| O(1) | 0.1  | 0.7  |\n",
      "+------+------+------+\n"
     ]
    }
   ],
   "source": [
    "CBD_O = TabularCPD(variable='O',\n",
    "                   variable_card=2,\n",
    "                   values=[[0.9, 0.3],\n",
    "                           [0.1, 0.7]],\n",
    "                   evidence=['S'],\n",
    "                   evidence_card=[2])\n",
    "print(CBD_O)"
   ]
  },
  {
   "cell_type": "code",
   "execution_count": 30,
   "id": "e3f58c905e4d382b",
   "metadata": {
    "ExecuteTime": {
     "end_time": "2024-10-15T13:50:27.093473Z",
     "start_time": "2024-10-15T13:50:27.089795Z"
    }
   },
   "outputs": [
    {
     "name": "stdout",
     "output_type": "stream",
     "text": [
      "+------+------+------+\n",
      "| S    | S(0) | S(1) |\n",
      "+------+------+------+\n",
      "| L(0) | 0.7  | 0.2  |\n",
      "+------+------+------+\n",
      "| L(1) | 0.3  | 0.8  |\n",
      "+------+------+------+\n"
     ]
    }
   ],
   "source": [
    "CBD_L = TabularCPD(variable='L',\n",
    "                     variable_card=2,\n",
    "                     values=[[0.7, 0.2],\n",
    "                            [0.3, 0.8]],\n",
    "                     evidence=['S'],\n",
    "                     evidence_card=[2])\n",
    "print(CBD_L)"
   ]
  },
  {
   "cell_type": "code",
   "execution_count": 31,
   "id": "1edd962f47c50e50",
   "metadata": {
    "ExecuteTime": {
     "end_time": "2024-10-15T13:50:27.182766Z",
     "start_time": "2024-10-15T13:50:27.178631Z"
    }
   },
   "outputs": [
    {
     "name": "stdout",
     "output_type": "stream",
     "text": [
      "+------+------+------+------+------+\n",
      "| S    | S(0) | S(0) | S(1) | S(1) |\n",
      "+------+------+------+------+------+\n",
      "| L    | L(0) | L(1) | L(0) | L(1) |\n",
      "+------+------+------+------+------+\n",
      "| M(0) | 0.8  | 0.4  | 0.5  | 0.1  |\n",
      "+------+------+------+------+------+\n",
      "| M(1) | 0.2  | 0.6  | 0.5  | 0.9  |\n",
      "+------+------+------+------+------+\n"
     ]
    }
   ],
   "source": [
    "CBD_M = TabularCPD(variable='M',\n",
    "                   variable_card=2,\n",
    "                   evidence=['S','L'],\n",
    "                   evidence_card=[2,2],\n",
    "                   values=[[0.8, 0.4, 0.5, 0.1],\n",
    "                           [0.2, 0.6, 0.5, 0.9]])\n",
    "print(CBD_M)"
   ]
  },
  {
   "cell_type": "code",
   "execution_count": 32,
   "id": "d96a181dd898f9d4",
   "metadata": {
    "ExecuteTime": {
     "end_time": "2024-10-15T13:50:27.273689Z",
     "start_time": "2024-10-15T13:50:27.269293Z"
    }
   },
   "outputs": [],
   "source": [
    "model.add_cpds(CPD_S, CBD_O, CBD_L, CBD_M)\n",
    "assert model.check_model()"
   ]
  },
  {
   "cell_type": "markdown",
   "id": "72347b61dd717887",
   "metadata": {},
   "source": [
    "Clasificarea lui S în funcție de O, L și M"
   ]
  },
  {
   "cell_type": "code",
   "id": "2045ad65e9c99e0e",
   "metadata": {
    "ExecuteTime": {
     "end_time": "2024-10-15T14:00:32.656175Z",
     "start_time": "2024-10-15T14:00:32.649513Z"
    }
   },
   "source": [
    "from pgmpy.inference import VariableElimination\n",
    "infer = VariableElimination(model)\n",
    "\n",
    "for i in ['O', 'L', 'M']:\n",
    "    print(f\"Probabilitatea lui S dat fiind {i}\")\n",
    "    print(f\"{i}=0\")\n",
    "    print(infer.query(variables=['S'], evidence={i: 0}))\n",
    "    print(f\"{i}=1\")\n",
    "    print(infer.query(variables=['S'], evidence={i: 1}))"
   ],
   "outputs": [
    {
     "name": "stdout",
     "output_type": "stream",
     "text": [
      "Probabilitatea lui S dat fiind O\n",
      "O=0\n",
      "+------+----------+\n",
      "| S    |   phi(S) |\n",
      "+======+==========+\n",
      "| S(0) |   0.8182 |\n",
      "+------+----------+\n",
      "| S(1) |   0.1818 |\n",
      "+------+----------+\n",
      "O=1\n",
      "+------+----------+\n",
      "| S    |   phi(S) |\n",
      "+======+==========+\n",
      "| S(0) |   0.1765 |\n",
      "+------+----------+\n",
      "| S(1) |   0.8235 |\n",
      "+------+----------+\n",
      "Probabilitatea lui S dat fiind L\n",
      "L=0\n",
      "+------+----------+\n",
      "| S    |   phi(S) |\n",
      "+======+==========+\n",
      "| S(0) |   0.8400 |\n",
      "+------+----------+\n",
      "| S(1) |   0.1600 |\n",
      "+------+----------+\n",
      "L=1\n",
      "+------+----------+\n",
      "| S    |   phi(S) |\n",
      "+======+==========+\n",
      "| S(0) |   0.3600 |\n",
      "+------+----------+\n",
      "| S(1) |   0.6400 |\n",
      "+------+----------+\n",
      "Probabilitatea lui S dat fiind M\n",
      "M=0\n",
      "+------+----------+\n",
      "| S    |   phi(S) |\n",
      "+======+==========+\n",
      "| S(0) |   0.8500 |\n",
      "+------+----------+\n",
      "| S(1) |   0.1500 |\n",
      "+------+----------+\n",
      "M=1\n",
      "+------+----------+\n",
      "| S    |   phi(S) |\n",
      "+======+==========+\n",
      "| S(0) |   0.3692 |\n",
      "+------+----------+\n",
      "| S(1) |   0.6308 |\n",
      "+------+----------+\n"
     ]
    }
   ],
   "execution_count": 43
  }
 ],
 "metadata": {
  "kernelspec": {
   "display_name": "Python 3 (ipykernel)",
   "language": "python",
   "name": "python3"
  },
  "language_info": {
   "codemirror_mode": {
    "name": "ipython",
    "version": 3
   },
   "file_extension": ".py",
   "mimetype": "text/x-python",
   "name": "python",
   "nbconvert_exporter": "python",
   "pygments_lexer": "ipython3",
   "version": "3.12.6"
  }
 },
 "nbformat": 4,
 "nbformat_minor": 5
}
