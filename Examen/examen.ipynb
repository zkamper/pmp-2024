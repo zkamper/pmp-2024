{
 "cells": [
  {
   "metadata": {},
   "cell_type": "markdown",
   "source": "# Exercitiul 1\n",
   "id": "50b7c28902d9d07f"
  },
  {
   "metadata": {
    "ExecuteTime": {
     "end_time": "2025-01-27T08:09:50.701315Z",
     "start_time": "2025-01-27T08:09:43.367358Z"
    }
   },
   "cell_type": "code",
   "source": [
    "import pandas as pd\n",
    "import matplotlib.pyplot as plt\n",
    "import numpy as np\n",
    "import pymc as pm\n",
    "import arviz as az\n",
    "from pandas import DataFrame"
   ],
   "id": "60b51eff7e85eb63",
   "outputs": [
    {
     "name": "stderr",
     "output_type": "stream",
     "text": [
      "WARNING (pytensor.tensor.blas): Using NumPy C-API based implementation for BLAS functions.\n"
     ]
    }
   ],
   "execution_count": 1
  },
  {
   "metadata": {
    "ExecuteTime": {
     "end_time": "2025-01-27T08:18:37.633093Z",
     "start_time": "2025-01-27T08:18:37.629335Z"
    }
   },
   "cell_type": "code",
   "source": [
    "def standardize_data(X, mean = None, std = None):\n",
    "    x_mean, x_std = mean, std\n",
    "    if mean is None:\n",
    "        x_mean = X.mean()\n",
    "    if std is None:\n",
    "        x_std = X.std()\n",
    "    x_s = (X - x_mean) / x_std\n",
    "    return x_s, x_mean, x_std"
   ],
   "id": "9b6f627e3e9c94ae",
   "outputs": [],
   "execution_count": 16
  },
  {
   "metadata": {
    "ExecuteTime": {
     "end_time": "2025-01-27T08:11:05.664723Z",
     "start_time": "2025-01-27T08:11:05.625736Z"
    }
   },
   "cell_type": "code",
   "source": [
    "df = pd.read_csv('date_alegeri_turul2.csv')\n",
    "df.head()"
   ],
   "id": "2479ed8e240fe964",
   "outputs": [
    {
     "data": {
      "text/plain": [
       "   Varsta  Sex  Educatie  Venit  Vot\n",
       "0      45    1         0   8.06    1\n",
       "1      39    1         1   6.48    1\n",
       "2      46    1         1   5.48    1\n",
       "3      55    0         0   5.61    1\n",
       "4      38    1         1   5.86    1"
      ],
      "text/html": [
       "<div>\n",
       "<style scoped>\n",
       "    .dataframe tbody tr th:only-of-type {\n",
       "        vertical-align: middle;\n",
       "    }\n",
       "\n",
       "    .dataframe tbody tr th {\n",
       "        vertical-align: top;\n",
       "    }\n",
       "\n",
       "    .dataframe thead th {\n",
       "        text-align: right;\n",
       "    }\n",
       "</style>\n",
       "<table border=\"1\" class=\"dataframe\">\n",
       "  <thead>\n",
       "    <tr style=\"text-align: right;\">\n",
       "      <th></th>\n",
       "      <th>Varsta</th>\n",
       "      <th>Sex</th>\n",
       "      <th>Educatie</th>\n",
       "      <th>Venit</th>\n",
       "      <th>Vot</th>\n",
       "    </tr>\n",
       "  </thead>\n",
       "  <tbody>\n",
       "    <tr>\n",
       "      <th>0</th>\n",
       "      <td>45</td>\n",
       "      <td>1</td>\n",
       "      <td>0</td>\n",
       "      <td>8.06</td>\n",
       "      <td>1</td>\n",
       "    </tr>\n",
       "    <tr>\n",
       "      <th>1</th>\n",
       "      <td>39</td>\n",
       "      <td>1</td>\n",
       "      <td>1</td>\n",
       "      <td>6.48</td>\n",
       "      <td>1</td>\n",
       "    </tr>\n",
       "    <tr>\n",
       "      <th>2</th>\n",
       "      <td>46</td>\n",
       "      <td>1</td>\n",
       "      <td>1</td>\n",
       "      <td>5.48</td>\n",
       "      <td>1</td>\n",
       "    </tr>\n",
       "    <tr>\n",
       "      <th>3</th>\n",
       "      <td>55</td>\n",
       "      <td>0</td>\n",
       "      <td>0</td>\n",
       "      <td>5.61</td>\n",
       "      <td>1</td>\n",
       "    </tr>\n",
       "    <tr>\n",
       "      <th>4</th>\n",
       "      <td>38</td>\n",
       "      <td>1</td>\n",
       "      <td>1</td>\n",
       "      <td>5.86</td>\n",
       "      <td>1</td>\n",
       "    </tr>\n",
       "  </tbody>\n",
       "</table>\n",
       "</div>"
      ]
     },
     "execution_count": 2,
     "metadata": {},
     "output_type": "execute_result"
    }
   ],
   "execution_count": 2
  },
  {
   "metadata": {
    "ExecuteTime": {
     "end_time": "2025-01-27T08:23:19.245360Z",
     "start_time": "2025-01-27T08:23:19.238707Z"
    }
   },
   "cell_type": "code",
   "source": [
    "cols = df.columns[:4]\n",
    "x = []\n",
    "for col in cols:\n",
    "    x_curr = df[col].values.astype(float)\n",
    "    x_s, x_mean, x_std = standardize_data(x_curr)\n",
    "    x.append(x_s)\n",
    "x = np.array(x).T\n",
    "\n",
    "y = df['Vot'].values.astype(float)\n",
    "y"
   ],
   "id": "ba6b5ac16655ac82",
   "outputs": [
    {
     "data": {
      "text/plain": [
       "array([1., 1., 1., 1., 1., 1., 1., 0., 1., 1., 1., 0., 1., 1., 1., 0., 1.,\n",
       "       1., 1., 0., 1., 1., 1., 1., 1., 1., 1., 0., 0., 1., 1., 1., 0., 1.,\n",
       "       1., 1., 1., 1., 1., 1., 1., 1., 0., 1., 0., 0., 1., 1., 1., 1., 1.,\n",
       "       1., 1., 1., 0., 1., 1., 1., 1., 1., 0., 0., 1., 0., 1., 0., 1., 0.,\n",
       "       1., 1., 1., 1., 1., 1., 0., 1., 0., 1., 0., 1., 1., 1., 1., 1., 1.,\n",
       "       1., 1., 1., 1., 0., 1., 1., 1., 0., 1., 1., 1., 1., 1., 1., 1., 1.,\n",
       "       1., 0., 1., 1., 1., 1., 0., 1., 1., 1., 1., 1., 1., 1., 1., 1., 1.,\n",
       "       0., 1., 1., 0., 1., 0., 1., 1., 1., 1., 1., 1., 1., 0., 1., 1., 1.,\n",
       "       1., 1., 1., 0., 1., 0., 1., 1., 1., 0., 1., 1., 1., 1., 1., 0., 1.,\n",
       "       1., 0., 1., 1., 1., 0., 0., 1., 0., 1., 1., 1., 1., 1., 0., 1., 1.,\n",
       "       1., 1., 0., 1., 1., 1., 1., 1., 1., 1., 1., 0., 1., 1., 1., 1., 0.,\n",
       "       0., 1., 1., 1., 1., 1., 1., 1., 1., 1., 0., 0., 1., 1., 1., 1., 0.,\n",
       "       1., 1., 1., 1., 0., 1., 1., 1., 1., 1., 1., 1., 0., 1., 1., 1., 1.,\n",
       "       0., 1., 1., 1., 1., 1., 1., 0., 1., 0., 1., 1., 1., 1., 1., 1., 1.,\n",
       "       1., 1., 0., 1., 1., 1., 1., 1., 1., 1., 1., 1., 1., 1., 1., 1., 0.,\n",
       "       1., 1., 1., 1., 1., 0., 1., 0., 1., 1., 1., 1., 1., 0., 0., 1., 1.,\n",
       "       1., 1., 0., 1., 1., 1., 1., 0., 0., 1., 1., 1., 1., 1., 1., 1., 1.,\n",
       "       1., 1., 1., 1., 1., 1., 1., 1., 1., 0., 1., 1., 1., 1., 1., 1., 0.,\n",
       "       1., 0., 0., 1., 0., 1., 1., 1., 1., 1., 1., 1., 1., 1., 1., 1., 1.,\n",
       "       1., 1., 0., 1., 1., 1., 1., 1., 0., 1., 1., 1., 1., 0., 1., 1., 0.,\n",
       "       1., 1., 1., 1., 1., 1., 1., 1., 0., 1., 1., 1., 1., 1., 1., 1., 1.,\n",
       "       1., 1., 1., 1., 1., 0., 1., 1., 1., 1., 1., 1., 0., 1., 1., 1., 1.,\n",
       "       1., 0., 1., 1., 1., 0., 1., 0., 1., 0., 1., 0., 0., 1., 0., 1., 1.,\n",
       "       1., 0., 1., 1., 1., 1., 1., 1., 1., 1., 1., 0., 1., 1., 1., 1., 1.,\n",
       "       1., 1., 1., 1., 1., 1., 0., 0., 1., 1., 1., 1., 1., 1., 1., 1., 1.,\n",
       "       0., 0., 0., 1., 0., 1., 1., 1., 1., 1., 1., 0., 1., 1., 0., 1., 1.,\n",
       "       1., 1., 1., 1., 1., 1., 1., 1., 1., 0., 0., 0., 1., 1., 1., 0., 1.,\n",
       "       1., 0., 1., 1., 0., 1., 0., 1., 1., 1., 0., 1., 1., 1., 1., 1., 1.,\n",
       "       0., 1., 1., 1., 1., 0., 0., 0., 1., 0., 1., 1., 1., 0., 0., 1., 0.,\n",
       "       0., 1., 1., 0., 1., 1., 1.])"
      ]
     },
     "execution_count": 26,
     "metadata": {},
     "output_type": "execute_result"
    }
   ],
   "execution_count": 26
  },
  {
   "metadata": {
    "ExecuteTime": {
     "end_time": "2025-01-27T08:25:41.509347Z",
     "start_time": "2025-01-27T08:24:59.009829Z"
    }
   },
   "cell_type": "code",
   "source": [
    "with pm.Model() as regression_model:\n",
    "    alpha = pm.Normal('alpha', mu=0, sigma=10)\n",
    "    beta = pm.Normal('beta', mu=0, sigma=10, shape=len(cols))\n",
    "    mu = alpha + pm.math.dot(x, beta)\n",
    "    theta = pm.Deterministic('theta', pm.math.sigmoid(mu))\n",
    "    \n",
    "    yl = pm.Bernoulli('yl', p=theta, observed=y)\n",
    "    \n",
    "    trace = pm.sample(1000, tune=1000)"
   ],
   "id": "f14649b2f9441966",
   "outputs": [
    {
     "name": "stderr",
     "output_type": "stream",
     "text": [
      "Auto-assigning NUTS sampler...\n",
      "Initializing NUTS using jitter+adapt_diag...\n",
      "Multiprocess sampling (4 chains in 4 jobs)\n",
      "NUTS: [alpha, beta]\n"
     ]
    },
    {
     "data": {
      "text/plain": [
       "Output()"
      ],
      "application/vnd.jupyter.widget-view+json": {
       "version_major": 2,
       "version_minor": 0,
       "model_id": "141d58bdef914b4da3be010759ac7f93"
      }
     },
     "metadata": {},
     "output_type": "display_data"
    },
    {
     "data": {
      "text/plain": [],
      "text/html": [
       "<pre style=\"white-space:pre;overflow-x:auto;line-height:normal;font-family:Menlo,'DejaVu Sans Mono',consolas,'Courier New',monospace\"></pre>\n"
      ]
     },
     "metadata": {},
     "output_type": "display_data"
    },
    {
     "name": "stderr",
     "output_type": "stream",
     "text": [
      "Sampling 4 chains for 1_000 tune and 1_000 draw iterations (4_000 + 4_000 draws total) took 17 seconds.\n"
     ]
    }
   ],
   "execution_count": 28
  },
  {
   "metadata": {
    "ExecuteTime": {
     "end_time": "2025-01-27T08:27:37.710303Z",
     "start_time": "2025-01-27T08:27:35.682720Z"
    }
   },
   "cell_type": "code",
   "source": "az.summary(trace)",
   "id": "fbe3bf6122056858",
   "outputs": [
    {
     "data": {
      "text/plain": [
       "             mean     sd  hdi_3%  hdi_97%  mcse_mean  mcse_sd  ess_bulk  \\\n",
       "alpha       1.738  0.149   1.459    2.012      0.003    0.002    3076.0   \n",
       "beta[0]     0.290  0.131   0.035    0.531      0.002    0.001    5359.0   \n",
       "beta[1]    -0.423  0.129  -0.651   -0.171      0.002    0.001    4263.0   \n",
       "beta[2]     0.486  0.130   0.251    0.738      0.002    0.001    4526.0   \n",
       "beta[3]     1.009  0.145   0.736    1.279      0.002    0.002    3606.0   \n",
       "...           ...    ...     ...      ...        ...      ...       ...   \n",
       "theta[495]  0.980  0.007   0.967    0.993      0.000    0.000    2590.0   \n",
       "theta[496]  0.680  0.054   0.583    0.779      0.001    0.001    5643.0   \n",
       "theta[497]  0.886  0.021   0.846    0.925      0.000    0.000    3149.0   \n",
       "theta[498]  0.877  0.031   0.817    0.931      0.000    0.000    4176.0   \n",
       "theta[499]  0.948  0.018   0.915    0.978      0.000    0.000    3308.0   \n",
       "\n",
       "            ess_tail  r_hat  \n",
       "alpha         3183.0    1.0  \n",
       "beta[0]       3329.0    1.0  \n",
       "beta[1]       3294.0    1.0  \n",
       "beta[2]       3338.0    1.0  \n",
       "beta[3]       3183.0    1.0  \n",
       "...              ...    ...  \n",
       "theta[495]    2659.0    1.0  \n",
       "theta[496]    3619.0    1.0  \n",
       "theta[497]    3010.0    1.0  \n",
       "theta[498]    3244.0    1.0  \n",
       "theta[499]    3208.0    1.0  \n",
       "\n",
       "[505 rows x 9 columns]"
      ],
      "text/html": [
       "<div>\n",
       "<style scoped>\n",
       "    .dataframe tbody tr th:only-of-type {\n",
       "        vertical-align: middle;\n",
       "    }\n",
       "\n",
       "    .dataframe tbody tr th {\n",
       "        vertical-align: top;\n",
       "    }\n",
       "\n",
       "    .dataframe thead th {\n",
       "        text-align: right;\n",
       "    }\n",
       "</style>\n",
       "<table border=\"1\" class=\"dataframe\">\n",
       "  <thead>\n",
       "    <tr style=\"text-align: right;\">\n",
       "      <th></th>\n",
       "      <th>mean</th>\n",
       "      <th>sd</th>\n",
       "      <th>hdi_3%</th>\n",
       "      <th>hdi_97%</th>\n",
       "      <th>mcse_mean</th>\n",
       "      <th>mcse_sd</th>\n",
       "      <th>ess_bulk</th>\n",
       "      <th>ess_tail</th>\n",
       "      <th>r_hat</th>\n",
       "    </tr>\n",
       "  </thead>\n",
       "  <tbody>\n",
       "    <tr>\n",
       "      <th>alpha</th>\n",
       "      <td>1.738</td>\n",
       "      <td>0.149</td>\n",
       "      <td>1.459</td>\n",
       "      <td>2.012</td>\n",
       "      <td>0.003</td>\n",
       "      <td>0.002</td>\n",
       "      <td>3076.0</td>\n",
       "      <td>3183.0</td>\n",
       "      <td>1.0</td>\n",
       "    </tr>\n",
       "    <tr>\n",
       "      <th>beta[0]</th>\n",
       "      <td>0.290</td>\n",
       "      <td>0.131</td>\n",
       "      <td>0.035</td>\n",
       "      <td>0.531</td>\n",
       "      <td>0.002</td>\n",
       "      <td>0.001</td>\n",
       "      <td>5359.0</td>\n",
       "      <td>3329.0</td>\n",
       "      <td>1.0</td>\n",
       "    </tr>\n",
       "    <tr>\n",
       "      <th>beta[1]</th>\n",
       "      <td>-0.423</td>\n",
       "      <td>0.129</td>\n",
       "      <td>-0.651</td>\n",
       "      <td>-0.171</td>\n",
       "      <td>0.002</td>\n",
       "      <td>0.001</td>\n",
       "      <td>4263.0</td>\n",
       "      <td>3294.0</td>\n",
       "      <td>1.0</td>\n",
       "    </tr>\n",
       "    <tr>\n",
       "      <th>beta[2]</th>\n",
       "      <td>0.486</td>\n",
       "      <td>0.130</td>\n",
       "      <td>0.251</td>\n",
       "      <td>0.738</td>\n",
       "      <td>0.002</td>\n",
       "      <td>0.001</td>\n",
       "      <td>4526.0</td>\n",
       "      <td>3338.0</td>\n",
       "      <td>1.0</td>\n",
       "    </tr>\n",
       "    <tr>\n",
       "      <th>beta[3]</th>\n",
       "      <td>1.009</td>\n",
       "      <td>0.145</td>\n",
       "      <td>0.736</td>\n",
       "      <td>1.279</td>\n",
       "      <td>0.002</td>\n",
       "      <td>0.002</td>\n",
       "      <td>3606.0</td>\n",
       "      <td>3183.0</td>\n",
       "      <td>1.0</td>\n",
       "    </tr>\n",
       "    <tr>\n",
       "      <th>...</th>\n",
       "      <td>...</td>\n",
       "      <td>...</td>\n",
       "      <td>...</td>\n",
       "      <td>...</td>\n",
       "      <td>...</td>\n",
       "      <td>...</td>\n",
       "      <td>...</td>\n",
       "      <td>...</td>\n",
       "      <td>...</td>\n",
       "    </tr>\n",
       "    <tr>\n",
       "      <th>theta[495]</th>\n",
       "      <td>0.980</td>\n",
       "      <td>0.007</td>\n",
       "      <td>0.967</td>\n",
       "      <td>0.993</td>\n",
       "      <td>0.000</td>\n",
       "      <td>0.000</td>\n",
       "      <td>2590.0</td>\n",
       "      <td>2659.0</td>\n",
       "      <td>1.0</td>\n",
       "    </tr>\n",
       "    <tr>\n",
       "      <th>theta[496]</th>\n",
       "      <td>0.680</td>\n",
       "      <td>0.054</td>\n",
       "      <td>0.583</td>\n",
       "      <td>0.779</td>\n",
       "      <td>0.001</td>\n",
       "      <td>0.001</td>\n",
       "      <td>5643.0</td>\n",
       "      <td>3619.0</td>\n",
       "      <td>1.0</td>\n",
       "    </tr>\n",
       "    <tr>\n",
       "      <th>theta[497]</th>\n",
       "      <td>0.886</td>\n",
       "      <td>0.021</td>\n",
       "      <td>0.846</td>\n",
       "      <td>0.925</td>\n",
       "      <td>0.000</td>\n",
       "      <td>0.000</td>\n",
       "      <td>3149.0</td>\n",
       "      <td>3010.0</td>\n",
       "      <td>1.0</td>\n",
       "    </tr>\n",
       "    <tr>\n",
       "      <th>theta[498]</th>\n",
       "      <td>0.877</td>\n",
       "      <td>0.031</td>\n",
       "      <td>0.817</td>\n",
       "      <td>0.931</td>\n",
       "      <td>0.000</td>\n",
       "      <td>0.000</td>\n",
       "      <td>4176.0</td>\n",
       "      <td>3244.0</td>\n",
       "      <td>1.0</td>\n",
       "    </tr>\n",
       "    <tr>\n",
       "      <th>theta[499]</th>\n",
       "      <td>0.948</td>\n",
       "      <td>0.018</td>\n",
       "      <td>0.915</td>\n",
       "      <td>0.978</td>\n",
       "      <td>0.000</td>\n",
       "      <td>0.000</td>\n",
       "      <td>3308.0</td>\n",
       "      <td>3208.0</td>\n",
       "      <td>1.0</td>\n",
       "    </tr>\n",
       "  </tbody>\n",
       "</table>\n",
       "<p>505 rows × 9 columns</p>\n",
       "</div>"
      ]
     },
     "execution_count": 30,
     "metadata": {},
     "output_type": "execute_result"
    }
   ],
   "execution_count": 30
  },
  {
   "metadata": {},
   "cell_type": "markdown",
   "source": [
    "Observam ca urmatorii coeficienti au cea mai mare influenta, acestia fiind cei pentru Educatie si Venit\n",
    "\n",
    "Cream acum un model cu acestia"
   ],
   "id": "e868d738034ede7c"
  },
  {
   "metadata": {
    "ExecuteTime": {
     "end_time": "2025-01-27T08:35:39.961057Z",
     "start_time": "2025-01-27T08:35:21.614363Z"
    }
   },
   "cell_type": "code",
   "source": [
    "with pm.Model() as regression_model_2:\n",
    "    alpha = pm.Normal('alpha', mu=0, sigma=10)\n",
    "    beta = pm.Normal('beta', mu=0, sigma=10, shape=2)\n",
    "    mu = alpha + pm.math.dot(x[:,2:], beta)\n",
    "    \n",
    "    theta = pm.Deterministic('theta', pm.math.sigmoid(mu))\n",
    "    bd = pm.Deterministic('bd', -alpha / beta[1] - beta[0] / beta[1] * x[:,2].flatten())\n",
    "    \n",
    "    yl = pm.Bernoulli('yl', p=theta, observed=y)\n",
    "    \n",
    "    trace_2 = pm.sample(1000, tune=1000)"
   ],
   "id": "23a3bc8b3007ee5b",
   "outputs": [
    {
     "name": "stderr",
     "output_type": "stream",
     "text": [
      "Auto-assigning NUTS sampler...\n",
      "Initializing NUTS using jitter+adapt_diag...\n",
      "Multiprocess sampling (4 chains in 4 jobs)\n",
      "NUTS: [alpha, beta]\n"
     ]
    },
    {
     "data": {
      "text/plain": [
       "Output()"
      ],
      "application/vnd.jupyter.widget-view+json": {
       "version_major": 2,
       "version_minor": 0,
       "model_id": "bca9c44dbff645ba818ddc08ed9e30e0"
      }
     },
     "metadata": {},
     "output_type": "display_data"
    },
    {
     "data": {
      "text/plain": [],
      "text/html": [
       "<pre style=\"white-space:pre;overflow-x:auto;line-height:normal;font-family:Menlo,'DejaVu Sans Mono',consolas,'Courier New',monospace\"></pre>\n"
      ]
     },
     "metadata": {},
     "output_type": "display_data"
    },
    {
     "name": "stderr",
     "output_type": "stream",
     "text": [
      "Sampling 4 chains for 1_000 tune and 1_000 draw iterations (4_000 + 4_000 draws total) took 15 seconds.\n"
     ]
    }
   ],
   "execution_count": 37
  },
  {
   "metadata": {
    "ExecuteTime": {
     "end_time": "2025-01-27T08:35:44.069044Z",
     "start_time": "2025-01-27T08:35:43.870354Z"
    }
   },
   "cell_type": "code",
   "source": [
    "idx = np.argsort(y)\n",
    "bd = trace_2.posterior['bd'].mean((\"chain\", \"draw\"))[idx]\n",
    "\n",
    "plt.xlim(-2,2)\n",
    "plt.ylim(-2,2)\n",
    "\n",
    "plt.scatter(x[:,2][y == 1], x[:,3][y == 1], color='blue')\n",
    "plt.scatter(x[:,2][y == 0], x[:,3][y == 0], color='red')\n",
    "\n",
    "plt.plot(x[:,2][idx], bd, color='k')\n",
    "az.plot_hdi(x[:,2], trace_2.posterior['bd'], color='k')\n",
    "\n",
    "plt.xlabel('Educatie')\n",
    "plt.ylabel('Venit')\n",
    "\n",
    "plt.show()"
   ],
   "id": "21a7cf08c3c5a064",
   "outputs": [
    {
     "data": {
      "text/plain": [
       "<Figure size 640x480 with 1 Axes>"
      ],
      "image/png": "[encoded data removed]"
     },
     "metadata": {},
     "output_type": "display_data"
    }
   ],
   "execution_count": 38
  }
 ],
 "metadata": {
  "kernelspec": {
   "display_name": "Python 3",
   "language": "python",
   "name": "python3"
  },
  "language_info": {
   "codemirror_mode": {
    "name": "ipython",
    "version": 2
   },
   "file_extension": ".py",
   "mimetype": "text/x-python",
   "name": "python",
   "nbconvert_exporter": "python",
   "pygments_lexer": "ipython2",
   "version": "2.7.6"
  }
 },
 "nbformat": 4,
 "nbformat_minor": 5
}
