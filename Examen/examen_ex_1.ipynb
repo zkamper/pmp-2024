{
 "cells": [
  {
   "metadata": {},
   "cell_type": "markdown",
   "source": "# Exercitiul 1\n",
   "id": "50b7c28902d9d07f"
  },
  {
   "metadata": {
    "ExecuteTime": {
     "end_time": "2025-01-27T08:09:50.701315Z",
     "start_time": "2025-01-27T08:09:43.367358Z"
    }
   },
   "cell_type": "code",
   "source": [
    "import pandas as pd\n",
    "import matplotlib.pyplot as plt\n",
    "import numpy as np\n",
    "import pymc as pm\n",
    "import arviz as az\n",
    "from pandas import DataFrame"
   ],
   "id": "60b51eff7e85eb63",
   "outputs": [
    {
     "name": "stderr",
     "output_type": "stream",
     "text": [
      "WARNING (pytensor.tensor.blas): Using NumPy C-API based implementation for BLAS functions.\n"
     ]
    }
   ],
   "execution_count": 1
  },
  {
   "metadata": {
    "ExecuteTime": {
     "end_time": "2025-01-27T08:18:37.633093Z",
     "start_time": "2025-01-27T08:18:37.629335Z"
    }
   },
   "cell_type": "code",
   "source": [
    "def standardize_data(X, mean = None, std = None):\n",
    "    x_mean, x_std = mean, std\n",
    "    if mean is None:\n",
    "        x_mean = X.mean()\n",
    "    if std is None:\n",
    "        x_std = X.std()\n",
    "    x_s = (X - x_mean) / x_std\n",
    "    return x_s, x_mean, x_std"
   ],
   "id": "9b6f627e3e9c94ae",
   "outputs": [],
   "execution_count": 16
  },
  {
   "metadata": {
    "ExecuteTime": {
     "end_time": "2025-01-27T08:11:05.664723Z",
     "start_time": "2025-01-27T08:11:05.625736Z"
    }
   },
   "cell_type": "code",
   "source": [
    "df = pd.read_csv('date_alegeri_turul2.csv')\n",
    "df.head()"
   ],
   "id": "2479ed8e240fe964",
   "outputs": [
    {
     "data": {
      "text/plain": [
       "   Varsta  Sex  Educatie  Venit  Vot\n",
       "0      45    1         0   8.06    1\n",
       "1      39    1         1   6.48    1\n",
       "2      46    1         1   5.48    1\n",
       "3      55    0         0   5.61    1\n",
       "4      38    1         1   5.86    1"
      ],
      "text/html": [
       "<div>\n",
       "<style scoped>\n",
       "    .dataframe tbody tr th:only-of-type {\n",
       "        vertical-align: middle;\n",
       "    }\n",
       "\n",
       "    .dataframe tbody tr th {\n",
       "        vertical-align: top;\n",
       "    }\n",
       "\n",
       "    .dataframe thead th {\n",
       "        text-align: right;\n",
       "    }\n",
       "</style>\n",
       "<table border=\"1\" class=\"dataframe\">\n",
       "  <thead>\n",
       "    <tr style=\"text-align: right;\">\n",
       "      <th></th>\n",
       "      <th>Varsta</th>\n",
       "      <th>Sex</th>\n",
       "      <th>Educatie</th>\n",
       "      <th>Venit</th>\n",
       "      <th>Vot</th>\n",
       "    </tr>\n",
       "  </thead>\n",
       "  <tbody>\n",
       "    <tr>\n",
       "      <th>0</th>\n",
       "      <td>45</td>\n",
       "      <td>1</td>\n",
       "      <td>0</td>\n",
       "      <td>8.06</td>\n",
       "      <td>1</td>\n",
       "    </tr>\n",
       "    <tr>\n",
       "      <th>1</th>\n",
       "      <td>39</td>\n",
       "      <td>1</td>\n",
       "      <td>1</td>\n",
       "      <td>6.48</td>\n",
       "      <td>1</td>\n",
       "    </tr>\n",
       "    <tr>\n",
       "      <th>2</th>\n",
       "      <td>46</td>\n",
       "      <td>1</td>\n",
       "      <td>1</td>\n",
       "      <td>5.48</td>\n",
       "      <td>1</td>\n",
       "    </tr>\n",
       "    <tr>\n",
       "      <th>3</th>\n",
       "      <td>55</td>\n",
       "      <td>0</td>\n",
       "      <td>0</td>\n",
       "      <td>5.61</td>\n",
       "      <td>1</td>\n",
       "    </tr>\n",
       "    <tr>\n",
       "      <th>4</th>\n",
       "      <td>38</td>\n",
       "      <td>1</td>\n",
       "      <td>1</td>\n",
       "      <td>5.86</td>\n",
       "      <td>1</td>\n",
       "    </tr>\n",
       "  </tbody>\n",
       "</table>\n",
       "</div>"
      ]
     },
     "execution_count": 2,
     "metadata": {},
     "output_type": "execute_result"
    }
   ],
   "execution_count": 2
  },
  {
   "metadata": {
    "ExecuteTime": {
     "end_time": "2025-01-27T08:38:47.086229Z",
     "start_time": "2025-01-27T08:38:47.080417Z"
    }
   },
   "cell_type": "code",
   "source": [
    "cols = df.columns[:4]\n",
    "x = []\n",
    "for col in cols:\n",
    "    x_curr = df[col].values.astype(float)\n",
    "    x_s, x_mean, x_std = standardize_data(x_curr)\n",
    "    x.append(x_s)\n",
    "x = np.array(x).T\n",
    "\n",
    "y = df['Vot'].values.astype(float)\n",
    "x"
   ],
   "id": "ba6b5ac16655ac82",
   "outputs": [
    {
     "data": {
      "text/plain": [
       "array([[ 0.49898973,  1.040833  , -1.26240535,  0.94856835],\n",
       "       [-0.11151973,  1.040833  , -0.00251977,  0.16833325],\n",
       "       [ 0.60074131,  1.040833  , -0.00251977, -0.32548643],\n",
       "       ...,\n",
       "       [-0.2132713 , -0.96076892, -0.00251977, -0.00944183],\n",
       "       [-0.92553234,  1.040833  ,  1.25736581,  0.35598473],\n",
       "       [-1.43429022, -0.96076892,  1.25736581,  0.61770916]])"
      ]
     },
     "execution_count": 44,
     "metadata": {},
     "output_type": "execute_result"
    }
   ],
   "execution_count": 44
  },
  {
   "metadata": {
    "ExecuteTime": {
     "end_time": "2025-01-27T08:39:15.378500Z",
     "start_time": "2025-01-27T08:38:57.454167Z"
    }
   },
   "cell_type": "code",
   "source": [
    "with pm.Model() as regression_model:\n",
    "    alpha = pm.Normal('alpha', mu=0, sigma=10)\n",
    "    beta = pm.Normal('beta', mu=0, sigma=10, shape=len(cols))\n",
    "    mu = alpha + pm.math.dot(x, beta)\n",
    "    theta = pm.Deterministic('theta', pm.math.sigmoid(mu))\n",
    "    \n",
    "    yl = pm.Bernoulli('yl', p=theta, observed=y)\n",
    "    \n",
    "    trace = pm.sample(1000, tune=1000)"
   ],
   "id": "f14649b2f9441966",
   "outputs": [
    {
     "name": "stderr",
     "output_type": "stream",
     "text": [
      "Auto-assigning NUTS sampler...\n",
      "Initializing NUTS using jitter+adapt_diag...\n",
      "Multiprocess sampling (4 chains in 4 jobs)\n",
      "NUTS: [alpha, beta]\n"
     ]
    },
    {
     "data": {
      "text/plain": [
       "Output()"
      ],
      "application/vnd.jupyter.widget-view+json": {
       "version_major": 2,
       "version_minor": 0,
       "model_id": "01bb486ec1124dfb824f1f0e326afa2a"
      }
     },
     "metadata": {},
     "output_type": "display_data"
    },
    {
     "data": {
      "text/plain": [],
      "text/html": [
       "<pre style=\"white-space:pre;overflow-x:auto;line-height:normal;font-family:Menlo,'DejaVu Sans Mono',consolas,'Courier New',monospace\"></pre>\n"
      ]
     },
     "metadata": {},
     "output_type": "display_data"
    },
    {
     "name": "stderr",
     "output_type": "stream",
     "text": [
      "Sampling 4 chains for 1_000 tune and 1_000 draw iterations (4_000 + 4_000 draws total) took 16 seconds.\n"
     ]
    }
   ],
   "execution_count": 45
  },
  {
   "metadata": {
    "ExecuteTime": {
     "end_time": "2025-01-27T08:39:26.215648Z",
     "start_time": "2025-01-27T08:39:24.228650Z"
    }
   },
   "cell_type": "code",
   "source": "az.summary(trace)",
   "id": "fbe3bf6122056858",
   "outputs": [
    {
     "data": {
      "text/plain": [
       "             mean     sd  hdi_3%  hdi_97%  mcse_mean  mcse_sd  ess_bulk  \\\n",
       "alpha       1.745  0.146   1.492    2.048      0.003    0.002    2906.0   \n",
       "beta[0]     0.293  0.129   0.059    0.537      0.002    0.001    4559.0   \n",
       "beta[1]    -0.427  0.125  -0.663   -0.197      0.002    0.001    4521.0   \n",
       "beta[2]     0.491  0.131   0.242    0.732      0.002    0.002    4216.0   \n",
       "beta[3]     1.014  0.140   0.749    1.276      0.003    0.002    3079.0   \n",
       "...           ...    ...     ...      ...        ...      ...       ...   \n",
       "theta[495]  0.981  0.007   0.968    0.992      0.000    0.000    2376.0   \n",
       "theta[496]  0.681  0.052   0.578    0.773      0.001    0.001    5306.0   \n",
       "theta[497]  0.888  0.020   0.848    0.924      0.000    0.000    3151.0   \n",
       "theta[498]  0.878  0.031   0.818    0.931      0.001    0.000    3681.0   \n",
       "theta[499]  0.949  0.018   0.916    0.978      0.000    0.000    3141.0   \n",
       "\n",
       "            ess_tail  r_hat  \n",
       "alpha         2874.0    1.0  \n",
       "beta[0]       3279.0    1.0  \n",
       "beta[1]       3119.0    1.0  \n",
       "beta[2]       3309.0    1.0  \n",
       "beta[3]       3519.0    1.0  \n",
       "...              ...    ...  \n",
       "theta[495]    2599.0    1.0  \n",
       "theta[496]    3457.0    1.0  \n",
       "theta[497]    3219.0    1.0  \n",
       "theta[498]    3051.0    1.0  \n",
       "theta[499]    2929.0    1.0  \n",
       "\n",
       "[505 rows x 9 columns]"
      ],
      "text/html": [
       "<div>\n",
       "<style scoped>\n",
       "    .dataframe tbody tr th:only-of-type {\n",
       "        vertical-align: middle;\n",
       "    }\n",
       "\n",
       "    .dataframe tbody tr th {\n",
       "        vertical-align: top;\n",
       "    }\n",
       "\n",
       "    .dataframe thead th {\n",
       "        text-align: right;\n",
       "    }\n",
       "</style>\n",
       "<table border=\"1\" class=\"dataframe\">\n",
       "  <thead>\n",
       "    <tr style=\"text-align: right;\">\n",
       "      <th></th>\n",
       "      <th>mean</th>\n",
       "      <th>sd</th>\n",
       "      <th>hdi_3%</th>\n",
       "      <th>hdi_97%</th>\n",
       "      <th>mcse_mean</th>\n",
       "      <th>mcse_sd</th>\n",
       "      <th>ess_bulk</th>\n",
       "      <th>ess_tail</th>\n",
       "      <th>r_hat</th>\n",
       "    </tr>\n",
       "  </thead>\n",
       "  <tbody>\n",
       "    <tr>\n",
       "      <th>alpha</th>\n",
       "      <td>1.745</td>\n",
       "      <td>0.146</td>\n",
       "      <td>1.492</td>\n",
       "      <td>2.048</td>\n",
       "      <td>0.003</td>\n",
       "      <td>0.002</td>\n",
       "      <td>2906.0</td>\n",
       "      <td>2874.0</td>\n",
       "      <td>1.0</td>\n",
       "    </tr>\n",
       "    <tr>\n",
       "      <th>beta[0]</th>\n",
       "      <td>0.293</td>\n",
       "      <td>0.129</td>\n",
       "      <td>0.059</td>\n",
       "      <td>0.537</td>\n",
       "      <td>0.002</td>\n",
       "      <td>0.001</td>\n",
       "      <td>4559.0</td>\n",
       "      <td>3279.0</td>\n",
       "      <td>1.0</td>\n",
       "    </tr>\n",
       "    <tr>\n",
       "      <th>beta[1]</th>\n",
       "      <td>-0.427</td>\n",
       "      <td>0.125</td>\n",
       "      <td>-0.663</td>\n",
       "      <td>-0.197</td>\n",
       "      <td>0.002</td>\n",
       "      <td>0.001</td>\n",
       "      <td>4521.0</td>\n",
       "      <td>3119.0</td>\n",
       "      <td>1.0</td>\n",
       "    </tr>\n",
       "    <tr>\n",
       "      <th>beta[2]</th>\n",
       "      <td>0.491</td>\n",
       "      <td>0.131</td>\n",
       "      <td>0.242</td>\n",
       "      <td>0.732</td>\n",
       "      <td>0.002</td>\n",
       "      <td>0.002</td>\n",
       "      <td>4216.0</td>\n",
       "      <td>3309.0</td>\n",
       "      <td>1.0</td>\n",
       "    </tr>\n",
       "    <tr>\n",
       "      <th>beta[3]</th>\n",
       "      <td>1.014</td>\n",
       "      <td>0.140</td>\n",
       "      <td>0.749</td>\n",
       "      <td>1.276</td>\n",
       "      <td>0.003</td>\n",
       "      <td>0.002</td>\n",
       "      <td>3079.0</td>\n",
       "      <td>3519.0</td>\n",
       "      <td>1.0</td>\n",
       "    </tr>\n",
       "    <tr>\n",
       "      <th>...</th>\n",
       "      <td>...</td>\n",
       "      <td>...</td>\n",
       "      <td>...</td>\n",
       "      <td>...</td>\n",
       "      <td>...</td>\n",
       "      <td>...</td>\n",
       "      <td>...</td>\n",
       "      <td>...</td>\n",
       "      <td>...</td>\n",
       "    </tr>\n",
       "    <tr>\n",
       "      <th>theta[495]</th>\n",
       "      <td>0.981</td>\n",
       "      <td>0.007</td>\n",
       "      <td>0.968</td>\n",
       "      <td>0.992</td>\n",
       "      <td>0.000</td>\n",
       "      <td>0.000</td>\n",
       "      <td>2376.0</td>\n",
       "      <td>2599.0</td>\n",
       "      <td>1.0</td>\n",
       "    </tr>\n",
       "    <tr>\n",
       "      <th>theta[496]</th>\n",
       "      <td>0.681</td>\n",
       "      <td>0.052</td>\n",
       "      <td>0.578</td>\n",
       "      <td>0.773</td>\n",
       "      <td>0.001</td>\n",
       "      <td>0.001</td>\n",
       "      <td>5306.0</td>\n",
       "      <td>3457.0</td>\n",
       "      <td>1.0</td>\n",
       "    </tr>\n",
       "    <tr>\n",
       "      <th>theta[497]</th>\n",
       "      <td>0.888</td>\n",
       "      <td>0.020</td>\n",
       "      <td>0.848</td>\n",
       "      <td>0.924</td>\n",
       "      <td>0.000</td>\n",
       "      <td>0.000</td>\n",
       "      <td>3151.0</td>\n",
       "      <td>3219.0</td>\n",
       "      <td>1.0</td>\n",
       "    </tr>\n",
       "    <tr>\n",
       "      <th>theta[498]</th>\n",
       "      <td>0.878</td>\n",
       "      <td>0.031</td>\n",
       "      <td>0.818</td>\n",
       "      <td>0.931</td>\n",
       "      <td>0.001</td>\n",
       "      <td>0.000</td>\n",
       "      <td>3681.0</td>\n",
       "      <td>3051.0</td>\n",
       "      <td>1.0</td>\n",
       "    </tr>\n",
       "    <tr>\n",
       "      <th>theta[499]</th>\n",
       "      <td>0.949</td>\n",
       "      <td>0.018</td>\n",
       "      <td>0.916</td>\n",
       "      <td>0.978</td>\n",
       "      <td>0.000</td>\n",
       "      <td>0.000</td>\n",
       "      <td>3141.0</td>\n",
       "      <td>2929.0</td>\n",
       "      <td>1.0</td>\n",
       "    </tr>\n",
       "  </tbody>\n",
       "</table>\n",
       "<p>505 rows × 9 columns</p>\n",
       "</div>"
      ]
     },
     "execution_count": 47,
     "metadata": {},
     "output_type": "execute_result"
    }
   ],
   "execution_count": 47
  },
  {
   "metadata": {},
   "cell_type": "markdown",
   "source": [
    "Observam ca urmatorii coeficienti au cea mai mare influenta, acestia fiind cei pentru Educatie si Venit\n",
    "\n",
    "Cream acum un model cu acestia"
   ],
   "id": "e868d738034ede7c"
  },
  {
   "metadata": {
    "ExecuteTime": {
     "end_time": "2025-01-27T08:40:03.305018Z",
     "start_time": "2025-01-27T08:39:44.430202Z"
    }
   },
   "cell_type": "code",
   "source": [
    "with pm.Model() as regression_model_2:\n",
    "    alpha = pm.Normal('alpha', mu=0, sigma=10)\n",
    "    beta = pm.Normal('beta', mu=0, sigma=10, shape=2)\n",
    "    mu = alpha + pm.math.dot(x[:,2:], beta)\n",
    "    \n",
    "    theta = pm.Deterministic('theta', pm.math.sigmoid(mu))\n",
    "    bd = pm.Deterministic('bd', -alpha / beta[1] - beta[0] / beta[1] * x[:,2].flatten())\n",
    "    \n",
    "    yl = pm.Bernoulli('yl', p=theta, observed=y)\n",
    "    \n",
    "    trace_2 = pm.sample(1000, tune=1000)"
   ],
   "id": "23a3bc8b3007ee5b",
   "outputs": [
    {
     "name": "stderr",
     "output_type": "stream",
     "text": [
      "Auto-assigning NUTS sampler...\n",
      "Initializing NUTS using jitter+adapt_diag...\n",
      "Multiprocess sampling (4 chains in 4 jobs)\n",
      "NUTS: [alpha, beta]\n"
     ]
    },
    {
     "data": {
      "text/plain": [
       "Output()"
      ],
      "application/vnd.jupyter.widget-view+json": {
       "version_major": 2,
       "version_minor": 0,
       "model_id": "bae77a31405948c0846fd80a4c262dc8"
      }
     },
     "metadata": {},
     "output_type": "display_data"
    },
    {
     "data": {
      "text/plain": [],
      "text/html": [
       "<pre style=\"white-space:pre;overflow-x:auto;line-height:normal;font-family:Menlo,'DejaVu Sans Mono',consolas,'Courier New',monospace\"></pre>\n"
      ]
     },
     "metadata": {},
     "output_type": "display_data"
    },
    {
     "name": "stderr",
     "output_type": "stream",
     "text": [
      "Sampling 4 chains for 1_000 tune and 1_000 draw iterations (4_000 + 4_000 draws total) took 15 seconds.\n"
     ]
    }
   ],
   "execution_count": 48
  },
  {
   "metadata": {
    "ExecuteTime": {
     "end_time": "2025-01-27T08:40:25.925584Z",
     "start_time": "2025-01-27T08:40:25.733341Z"
    }
   },
   "cell_type": "code",
   "source": [
    "idx = np.argsort(y)\n",
    "bd = trace_2.posterior['bd'].mean((\"chain\", \"draw\"))[idx]\n",
    "\n",
    "plt.xlim(-2,2)\n",
    "plt.ylim(-2,2)\n",
    "\n",
    "plt.scatter(x[:,2][y == 1], x[:,3][y == 1], color='blue')\n",
    "plt.scatter(x[:,2][y == 0], x[:,3][y == 0], color='red')\n",
    "\n",
    "plt.plot(x[:,2][idx], bd, color='k')\n",
    "az.plot_hdi(x[:,2], trace_2.posterior['bd'], color='k',hdi_prob=0.94)\n",
    "\n",
    "plt.xlabel('Educatie')\n",
    "plt.ylabel('Venit')\n",
    "\n",
    "plt.show()"
   ],
   "id": "21a7cf08c3c5a064",
   "outputs": [
    {
     "data": {
      "text/plain": [
       "<Figure size 640x480 with 1 Axes>"
      ],
      "image/png": "[encoded data removed]"
     },
     "metadata": {},
     "output_type": "display_data"
    }
   ],
   "execution_count": 50
  },
  {
   "metadata": {},
   "cell_type": "markdown",
   "source": "Verificarea modelelor folosind WAIC",
   "id": "283e8e1c80390791"
  },
  {
   "metadata": {
    "ExecuteTime": {
     "end_time": "2025-01-27T08:42:29.651108Z",
     "start_time": "2025-01-27T08:42:28.797748Z"
    }
   },
   "cell_type": "code",
   "source": [
    "pm.compute_log_likelihood(trace,model=regression_model)\n",
    "pm.compute_log_likelihood(trace_2,model=regression_model_2)\n",
    "cmp_df = az.compare({'regression_model': trace, 'regression_model_2': trace_2},\n",
    "                    method='BB-pseudo-BMA', ic=\"waic\", scale=\"deviance\")\n",
    "print(cmp_df)\n",
    "az.plot_compare(cmp_df)"
   ],
   "id": "6861b1319d56b6f",
   "outputs": [
    {
     "data": {
      "text/plain": [
       "Output()"
      ],
      "application/vnd.jupyter.widget-view+json": {
       "version_major": 2,
       "version_minor": 0,
       "model_id": "cfbcab6e6cff4d99a2035a9e2bfe9f6e"
      }
     },
     "metadata": {},
     "output_type": "display_data"
    },
    {
     "data": {
      "text/plain": [],
      "text/html": [
       "<pre style=\"white-space:pre;overflow-x:auto;line-height:normal;font-family:Menlo,'DejaVu Sans Mono',consolas,'Courier New',monospace\"></pre>\n"
      ]
     },
     "metadata": {},
     "output_type": "display_data"
    },
    {
     "data": {
      "text/plain": [
       "Output()"
      ],
      "application/vnd.jupyter.widget-view+json": {
       "version_major": 2,
       "version_minor": 0,
       "model_id": "86cf01b2e3494870940712959dfa9da0"
      }
     },
     "metadata": {},
     "output_type": "display_data"
    },
    {
     "data": {
      "text/plain": [],
      "text/html": [
       "<pre style=\"white-space:pre;overflow-x:auto;line-height:normal;font-family:Menlo,'DejaVu Sans Mono',consolas,'Courier New',monospace\"></pre>\n"
      ]
     },
     "metadata": {},
     "output_type": "display_data"
    },
    {
     "name": "stdout",
     "output_type": "stream",
     "text": [
      "                    rank   elpd_waic    p_waic  elpd_diff    weight  \\\n",
      "regression_model       0  423.438305  4.855582   0.000000  0.923607   \n",
      "regression_model_2     1  436.755208  2.755019  13.316904  0.076393   \n",
      "\n",
      "                           se       dse  warning     scale  \n",
      "regression_model    24.972656  0.000000    False  deviance  \n",
      "regression_model_2  25.015878  8.717431    False  deviance  \n"
     ]
    },
    {
     "data": {
      "text/plain": [
       "<Axes: title={'center': 'Model comparison\\nlower is better'}, xlabel='elpd_waic (deviance)', ylabel='ranked models'>"
      ]
     },
     "execution_count": 54,
     "metadata": {},
     "output_type": "execute_result"
    },
    {
     "data": {
      "text/plain": [
       "<Figure size 600x200 with 1 Axes>"
      ],
      "image/png": "[encoded data removed]"
     },
     "metadata": {},
     "output_type": "display_data"
    }
   ],
   "execution_count": 54
  },
  {
   "metadata": {},
   "cell_type": "markdown",
   "source": "See poate observa ca modelul cu toti parametrii este mai bun decat modelul cu doar 2 parametrii",
   "id": "9fc3b298cf5e4ab2"
  }
 ],
 "metadata": {
  "kernelspec": {
   "display_name": "Python 3",
   "language": "python",
   "name": "python3"
  },
  "language_info": {
   "codemirror_mode": {
    "name": "ipython",
    "version": 2
   },
   "file_extension": ".py",
   "mimetype": "text/x-python",
   "name": "python",
   "nbconvert_exporter": "python",
   "pygments_lexer": "ipython2",
   "version": "2.7.6"
  }
 },
 "nbformat": 4,
 "nbformat_minor": 5
}
