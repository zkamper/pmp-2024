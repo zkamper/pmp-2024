{
 "cells": [
  {
   "metadata": {},
   "cell_type": "markdown",
   "source": [
    "# Ex laborator\n",
    "Considerăm o urnă în care avem 3 bile roșii, 4 bile albastre și 2 negre. Aruncăm un zar; dacă obținem un număr prim, adăugam o bilă neagră în urnă, dacă obținem 6, adăugăm o bilă roșie iar în celelalte cazuri adăugam o bilă albastră. Apoi extragem o bilă din urnă.\n",
    "a. Simulați în Python experimentul de mai sus.\n",
    "b. Folosind modelarea făcută, estimați probabilitatea de a obține o bilă roșie."
   ],
   "id": "3b25cde4baaf63bc"
  },
  {
   "metadata": {
    "ExecuteTime": {
     "end_time": "2024-10-08T13:21:55.468580Z",
     "start_time": "2024-10-08T13:21:54.317868Z"
    }
   },
   "cell_type": "code",
   "source": [
    "import matplotlib.pyplot as plt\n",
    "import numpy as np"
   ],
   "id": "568930cbf9a2acef",
   "outputs": [],
   "execution_count": 1
  },
  {
   "metadata": {
    "ExecuteTime": {
     "end_time": "2024-10-08T13:59:59.010558Z",
     "start_time": "2024-10-08T13:59:58.625283Z"
    }
   },
   "cell_type": "code",
   "source": [
    "# 3 red 4 blue 1 black\n",
    "\n",
    "balls = []\n",
    "\n",
    "for _ in range(10_000):\n",
    "    roll = np.random.choice([1,2,3,4,5,6])\n",
    "    probabilities = {\n",
    "        #  (prob,  rolls)\n",
    "        0: ([3,4,2],[2,3,5]), #black\n",
    "        1: ([4,4,1],[6]),     #red\n",
    "        2: ([3,5,1],[1,4])    #blue\n",
    "    }\n",
    "    probability = []\n",
    "    for key,value in probabilities.items():\n",
    "        if roll in value[1]:\n",
    "            probability = value[0]\n",
    "            break\n",
    "    choice = np.random.choice([0,1,2], p=[x/sum(probability) for x in probability])\n",
    "    balls.append(choice)\n",
    "    \n",
    "plt.hist(balls, bins=3)\n",
    "print(f\"Probabilitate roșii: {balls.count(0)/len(balls)}\")\n",
    "plt.show()"
   ],
   "id": "c30f3e9cea2cc19b",
   "outputs": [
    {
     "name": "stdout",
     "output_type": "stream",
     "text": [
      "Probabilitate roșii: 0.3439\n"
     ]
    },
    {
     "data": {
      "text/plain": [
       "<Figure size 640x480 with 1 Axes>"
      ],
      "image/png": "[encoded data removed]"
     },
     "metadata": {},
     "output_type": "display_data"
    }
   ],
   "execution_count": 39
  },
  {
   "metadata": {},
   "cell_type": "markdown",
   "source": [
    "## Bonus\n",
    "$$D_{1} - \\text{zar prim}$$\n",
    "$$D_{2} - \\text{zar 6}$$\n",
    "$$D_{3} - \\text{restul}$$\n",
    "\n",
    "$$P(R) = P(R|D_{1}) \\cdot P(D_{1}) + P(R|D_{2}) \\cdot P(D_{2}) + P(R|D_{3}) \\cdot P(D_{3})$$\n",
    "$$P(R) = P(R \\cap D_{1}) + P(R \\cap D_{2}) + P(R \\cap D_{3})$$\n",
    "$$P(R) = 3/6 \\cdot 3/9 + 1/6 \\cdot 1/9 + 4/6 \\cdot 4/9$$\n",
    "$$P(R) = 0.3518$$"
   ],
   "id": "a3aec936912d1bba"
  }
 ],
 "metadata": {
  "kernelspec": {
   "display_name": "Python 3",
   "language": "python",
   "name": "python3"
  },
  "language_info": {
   "codemirror_mode": {
    "name": "ipython",
    "version": 2
   },
   "file_extension": ".py",
   "mimetype": "text/x-python",
   "name": "python",
   "nbconvert_exporter": "python",
   "pygments_lexer": "ipython2",
   "version": "2.7.6"
  }
 },
 "nbformat": 4,
 "nbformat_minor": 5
}
